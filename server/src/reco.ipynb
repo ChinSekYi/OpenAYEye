{
 "cells": [
  {
   "cell_type": "code",
   "execution_count": 1,
   "metadata": {},
   "outputs": [],
   "source": [
    "import pandas as pd\n",
    "import numpy as np\n",
    "\n",
    "import os\n",
    "import sys\n",
    "import warnings\n",
    "warnings.filterwarnings(\"ignore\")\n",
    "if not sys.warnoptions:\n",
    "    warnings.simplefilter(\"ignore\")\n",
    "    os.environ[\"PYTHONWARNINGS\"] = \"ignore\" # Also affect subprocesses\n",
    " \n",
    "from dataset import engine, RFM, Churn, Engagement, RFM_engage, RFM_churn, Reco\n",
    "from models import CLFSwitcher, Transform, Pipe, parameters, RecoSystem\n"
   ]
  },
  {
   "cell_type": "code",
   "execution_count": 19,
   "metadata": {},
   "outputs": [],
   "source": [
    "def recommend(dataset=Reco(engine)):\n",
    "\tdf = dataset.df[['customer_id', 'deposits', 'cards', 'account', 'loan']]\n",
    "\tdf['customer_id'] = df['customer_id'].astype(int)\n",
    "\trecosys = RecoSystem(df)\n",
    "\treco = [recosys.hybrid(i) for i in df['customer_id']]\n",
    "\tdata = pd.concat([df, pd.DataFrame(reco)], axis=1)\n",
    "\tdata['customer_id'] = data['customer_id'].apply(lambda x: str(x).zfill(4))\n",
    "\treturn data\n",
    "reco_df = recommend()"
   ]
  },
  {
   "cell_type": "code",
   "execution_count": 54,
   "metadata": {},
   "outputs": [],
   "source": [
    "# reco_df.to_csv(\"dataset/reco_df.csv\", index=False)\n",
    "\n",
    "reco_df = pd.read_csv(\"dataset/reco_df.csv\")\n",
    "reco_df['customer_id'] = reco_df['customer_id'].apply(lambda x: str(x).zfill(4))"
   ]
  }
 ],
 "metadata": {
  "kernelspec": {
   "display_name": "torchdev",
   "language": "python",
   "name": "python3"
  },
  "language_info": {
   "codemirror_mode": {
    "name": "ipython",
    "version": 3
   },
   "file_extension": ".py",
   "mimetype": "text/x-python",
   "name": "python",
   "nbconvert_exporter": "python",
   "pygments_lexer": "ipython3",
   "version": "3.10.15"
  }
 },
 "nbformat": 4,
 "nbformat_minor": 2
}
