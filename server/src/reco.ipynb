{
 "cells": [
  {
   "cell_type": "code",
   "execution_count": null,
   "metadata": {},
   "outputs": [],
   "source": [
    "import pandas as pd\n",
    "import numpy as np\n",
    "\n",
    "import os\n",
    "import sys\n",
    "import warnings\n",
    "warnings.filterwarnings(\"ignore\")\n",
    "if not sys.warnoptions:\n",
    "    warnings.simplefilter(\"ignore\")\n",
    "    os.environ[\"PYTHONWARNINGS\"] = \"ignore\" # Also affect subprocesses\n",
    " \n",
    "from dataset import engine, RFM, Churn, Engagement, RFM_engage, RFM_churn, Reco\n",
    "from models import CLFSwitcher, Transform, Pipe, parameters, RecoSystem\n"
   ]
  },
  {
   "cell_type": "code",
   "execution_count": null,
   "metadata": {},
   "outputs": [],
   "source": [
    "dataset=Reco(engine)\n",
    "recosys = RecoSystem(dataset)\n",
    "reco_df = recosys.recommend()"
   ]
  },
  {
   "cell_type": "code",
   "execution_count": null,
   "metadata": {},
   "outputs": [],
   "source": [
    "rfm = RFM(engine)\n",
    "rfm = rfm.get_RFM()[['customer_id', 'segment']]\n",
    "\n",
    "data = reco_df.merge(rfm, how='inner', on='customer_id') \\\n",
    "\t.drop(['customer_id', 'deposits', 'cards', 'account', 'loan'], axis=1) \\\n",
    "\t.loc[:, ['segment', 'deposits_reco', 'cards_reco', 'account_reco', 'loan_reco']] \\\n",
    "\t.groupby(['segment']) \\\n",
    "\t.agg('mean').reset_index()\n",
    "data['deposits_recoColor'] = [\"hsl(229, 70%, 50%)\" for i in range(len(data))]\n",
    "data['cards_recoColor'] = [\"hsl(296, 70%, 50%)\" for i in range(len(data))]\n",
    "data['account_recoColor'] = [\"hsl(97, 70%, 50%)\" for i in range(len(data))]\n",
    "data['loan_recoColor'] = [\"hsl(229, 70%, 50%)\" for i in range(len(data))]\n",
    "# data = data.to_dict(orient='records')\n",
    "data"
   ]
  }
 ],
 "metadata": {
  "kernelspec": {
   "display_name": "torchdev",
   "language": "python",
   "name": "python3"
  },
  "language_info": {
   "codemirror_mode": {
    "name": "ipython",
    "version": 3
   },
   "file_extension": ".py",
   "mimetype": "text/x-python",
   "name": "python",
   "nbconvert_exporter": "python",
   "pygments_lexer": "ipython3",
   "version": "3.10.15"
  }
 },
 "nbformat": 4,
 "nbformat_minor": 2
}
