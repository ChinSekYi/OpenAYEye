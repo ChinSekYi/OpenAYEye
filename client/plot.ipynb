{
 "cells": [
  {
   "cell_type": "code",
   "execution_count": null,
   "metadata": {},
   "outputs": [],
   "source": [
    "import pandas as pd\n",
    "import numpy as np\n",
    "\n",
    "import os\n",
    "import sys\n",
    "import warnings\n",
    "warnings.filterwarnings(\"ignore\")\n",
    "if not sys.warnoptions:\n",
    "    warnings.simplefilter(\"ignore\")\n",
    "    os.environ[\"PYTHONWARNINGS\"] = \"ignore\" # Also affect subprocesse\n",
    " \n",
    "# from dataset import engine, RFM, Churn, Engagement"
   ]
  },
  {
   "cell_type": "code",
   "execution_count": 85,
   "metadata": {},
   "outputs": [],
   "source": [
    "import sqlalchemy\n",
    "from sqlalchemy.ext.declarative import declarative_base\n",
    "from sqlalchemy.orm import sessionmaker\n",
    "from sqlalchemy import create_engine\n",
    "\n",
    "\n",
    "def create_db(user=\"root\", password=\"Chenlu1974\", server=\"localhost\", database=\"transact\"):\n",
    "    SQLALCHEMY_DATABASE_URL = \"mysql+pymysql://{}:{}@{}/{}\".format(\n",
    "        user, password, server, database\n",
    "    )\n",
    "    engine = create_engine(SQLALCHEMY_DATABASE_URL)\n",
    "\n",
    "    SessionLocal = sessionmaker(autocommit=False, autoflush=False, bind=engine)\n",
    "    Base = declarative_base()\n",
    "\n",
    "    return engine, SessionLocal, Base\n",
    "\n",
    "\n",
    "engine, SessionLocal, Base = create_db(password='msql1234')\n",
    "\n",
    "with engine.connect() as db:\n",
    "\tquery = sqlalchemy.text(\n",
    "\t\t'''\n",
    "\t\tSELECT * FROM engagement;\n",
    "\t\t''')\n",
    "\tdf = pd.DataFrame(db.execute(query).fetchall())\n",
    "\tdb.close()"
   ]
  },
  {
   "cell_type": "code",
   "execution_count": 119,
   "metadata": {},
   "outputs": [
    {
     "name": "stdout",
     "output_type": "stream",
     "text": [
      "[{'date': '2024-01', 'converted': 15, 'credentials': 18, 'clicked': 48, 'scrolled': 102, 'convertedColor': 'hsl(229, 70%, 50%)', 'credentialsColor': 'hsl(296, 70%, 50%)', 'clickedColor': 'hsl(97, 70%, 50%)', 'scrolledColor': 'hsl(229, 70%, 50%)'}, {'date': '2024-02', 'converted': 219, 'credentials': 325, 'clicked': 1242, 'scrolled': 2465, 'convertedColor': 'hsl(229, 70%, 50%)', 'credentialsColor': 'hsl(296, 70%, 50%)', 'clickedColor': 'hsl(97, 70%, 50%)', 'scrolledColor': 'hsl(229, 70%, 50%)'}, {'date': '2024-03', 'converted': 158, 'credentials': 303, 'clicked': 1001, 'scrolled': 2020, 'convertedColor': 'hsl(229, 70%, 50%)', 'credentialsColor': 'hsl(296, 70%, 50%)', 'clickedColor': 'hsl(97, 70%, 50%)', 'scrolledColor': 'hsl(229, 70%, 50%)'}, {'date': '2024-04', 'converted': 128, 'credentials': 255, 'clicked': 920, 'scrolled': 1612, 'convertedColor': 'hsl(229, 70%, 50%)', 'credentialsColor': 'hsl(296, 70%, 50%)', 'clickedColor': 'hsl(97, 70%, 50%)', 'scrolledColor': 'hsl(229, 70%, 50%)'}, {'date': '2024-05', 'converted': 142, 'credentials': 269, 'clicked': 856, 'scrolled': 1644, 'convertedColor': 'hsl(229, 70%, 50%)', 'credentialsColor': 'hsl(296, 70%, 50%)', 'clickedColor': 'hsl(97, 70%, 50%)', 'scrolledColor': 'hsl(229, 70%, 50%)'}, {'date': '2024-06', 'converted': 218, 'credentials': 379, 'clicked': 1606, 'scrolled': 2885, 'convertedColor': 'hsl(229, 70%, 50%)', 'credentialsColor': 'hsl(296, 70%, 50%)', 'clickedColor': 'hsl(97, 70%, 50%)', 'scrolledColor': 'hsl(229, 70%, 50%)'}, {'date': '2024-07', 'converted': 233, 'credentials': 433, 'clicked': 1674, 'scrolled': 3197, 'convertedColor': 'hsl(229, 70%, 50%)', 'credentialsColor': 'hsl(296, 70%, 50%)', 'clickedColor': 'hsl(97, 70%, 50%)', 'scrolledColor': 'hsl(229, 70%, 50%)'}, {'date': '2024-08', 'converted': 192, 'credentials': 362, 'clicked': 1255, 'scrolled': 2326, 'convertedColor': 'hsl(229, 70%, 50%)', 'credentialsColor': 'hsl(296, 70%, 50%)', 'clickedColor': 'hsl(97, 70%, 50%)', 'scrolledColor': 'hsl(229, 70%, 50%)'}, {'date': '2024-09', 'converted': 116, 'credentials': 247, 'clicked': 863, 'scrolled': 1640, 'convertedColor': 'hsl(229, 70%, 50%)', 'credentialsColor': 'hsl(296, 70%, 50%)', 'clickedColor': 'hsl(97, 70%, 50%)', 'scrolledColor': 'hsl(229, 70%, 50%)'}, {'date': '2024-10', 'converted': 149, 'credentials': 261, 'clicked': 995, 'scrolled': 1943, 'convertedColor': 'hsl(229, 70%, 50%)', 'credentialsColor': 'hsl(296, 70%, 50%)', 'clickedColor': 'hsl(97, 70%, 50%)', 'scrolledColor': 'hsl(229, 70%, 50%)'}, {'date': '2024-11', 'converted': 237, 'credentials': 441, 'clicked': 1476, 'scrolled': 2910, 'convertedColor': 'hsl(229, 70%, 50%)', 'credentialsColor': 'hsl(296, 70%, 50%)', 'clickedColor': 'hsl(97, 70%, 50%)', 'scrolledColor': 'hsl(229, 70%, 50%)'}, {'date': '2024-12', 'converted': 267, 'credentials': 453, 'clicked': 1659, 'scrolled': 3184, 'convertedColor': 'hsl(229, 70%, 50%)', 'credentialsColor': 'hsl(296, 70%, 50%)', 'clickedColor': 'hsl(97, 70%, 50%)', 'scrolledColor': 'hsl(229, 70%, 50%)'}]\n"
     ]
    }
   ],
   "source": [
    "from dateutil.relativedelta import relativedelta\n",
    "import matplotlib.pyplot as plt\n",
    "\n",
    "\n",
    "data = df[df['engagement_date'] >= df['engagement_date'].max() - relativedelta(months=11)] \\\n",
    "\t.groupby([df['engagement_date'].dt.to_period(\"M\"), 'action_type']) \\\n",
    "\t.agg(['count'])['customer_id'] \\\n",
    "\t.reset_index() \\\n",
    "\t.pivot(index=\"engagement_date\", columns=\"action_type\", values=\"count\") \\\n",
    "\t.reset_index() \\\n",
    "\t.loc[:, ['engagement_date', 'converted', 'credentials', 'clicked', 'scrolled']] \\\n",
    "\t.rename(columns={'engagement_date': 'date'}) \\\n",
    "\t.astype({'date': str})\n",
    "# df\n",
    "data['convertedColor'] = [\"hsl(229, 70%, 50%)\" for i in range(len(data))]\n",
    "data['credentialsColor'] = [\"hsl(296, 70%, 50%)\" for i in range(len(data))]\n",
    "data['clickedColor'] = [\"hsl(97, 70%, 50%)\" for i in range(len(data))]\n",
    "data['scrolledColor'] = [\"hsl(229, 70%, 50%)\" for i in range(len(data))]\n",
    "\n",
    "\n",
    "result = data.to_dict(orient='records')\n",
    "print(result)\n",
    "# parsed = loads(result)\n",
    "# print(dumps(parsed))"
   ]
  },
  {
   "cell_type": "code",
   "execution_count": null,
   "metadata": {},
   "outputs": [],
   "source": [
    "fig, ax = plt.subplots(figsize=(10, 8))\n",
    "df_new.plot(kind='line', stacked=True, linestyle='-', marker='o', ax=ax)\n",
    "plt.legend()"
   ]
  }
 ],
 "metadata": {
  "kernelspec": {
   "display_name": "torchdev",
   "language": "python",
   "name": "python3"
  },
  "language_info": {
   "codemirror_mode": {
    "name": "ipython",
    "version": 3
   },
   "file_extension": ".py",
   "mimetype": "text/x-python",
   "name": "python",
   "nbconvert_exporter": "python",
   "pygments_lexer": "ipython3",
   "version": "3.10.15"
  }
 },
 "nbformat": 4,
 "nbformat_minor": 2
}
