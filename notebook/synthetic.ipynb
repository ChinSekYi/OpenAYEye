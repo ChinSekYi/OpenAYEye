{
 "cells": [
  {
   "cell_type": "code",
   "execution_count": null,
   "metadata": {
    "vscode": {
     "languageId": "plaintext"
    }
   },
   "outputs": [],
   "source": [
    "from sdv.datasets.demo import get_available_demos\n",
    "get_available_demos(modality='single_table')"
   ]
  },
  {
   "cell_type": "code",
   "execution_count": null,
   "metadata": {
    "vscode": {
     "languageId": "plaintext"
    }
   },
   "outputs": [],
   "source": [
    "from sdv.datasets.demo import download_demo\n",
    "real_data, metadata = download_demo(\n",
    " \tmodality='single_table',\n",
    " \tdataset_name='insurance'\n",
    ")\n",
    "print(real_data.head())\n",
    "real_data.to_csv(\"../data/insurance.csv\")\n",
    "# metadata.visualize()"
   ]
  },
  {
   "cell_type": "code",
   "execution_count": null,
   "metadata": {
    "vscode": {
     "languageId": "plaintext"
    }
   },
   "outputs": [],
   "source": [
    "from sdv.single_table import GaussianCopulaSynthesizer\n",
    "synthesizer = GaussianCopulaSynthesizer(metadata)\n",
    "synth = synthesizer.fit(real_data)\n",
    "synthesizer.sample(num_rows=10)"
   ]
  }
 ],
 "metadata": {
  "language_info": {
   "name": "python"
  }
 },
 "nbformat": 4,
 "nbformat_minor": 2
}
