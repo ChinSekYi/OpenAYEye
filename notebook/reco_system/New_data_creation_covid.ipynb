{
 "cells": [
  {
   "cell_type": "markdown",
   "metadata": {},
   "source": [
    "# Simulating Covid-19 Economic Impact on Bank Transactions\n",
    "Purpose of this workbook is to generate a nother data set to simulate the effects of Covid on Spain on the data set."
   ]
  },
  {
   "cell_type": "code",
   "execution_count": 18,
   "metadata": {},
   "outputs": [],
   "source": [
    "import pandas as pd\n",
    "import numpy as np\n",
    "import os\n",
    "import matplotlib.pyplot as plt\n",
    "from statistics import mean\n",
    "\n"
   ]
  },
  {
   "cell_type": "markdown",
   "metadata": {},
   "source": [
    "### 2) Read in cleaned version of the original dataset\n",
    "The original dataset was used to train the recommendation system in `logistic_regression.py`"
   ]
  },
  {
   "cell_type": "code",
   "execution_count": null,
   "metadata": {},
   "outputs": [],
   "source": [
    "print(\"Current Working Directory:\", os.getcwd()) \n",
    "\n",
    "# Define file paths for training and testing data\n",
    "file_path_train = os.path.join(\"../..\", \"artifacts\", \"reco_sys_train_data.csv\")  \n",
    "file_path_test = os.path.join(\"../..\", \"artifacts\", \"reco_sys_test_data.csv\")  \n",
    "\n",
    "# Print the paths to verify\n",
    "print(\"Training Data Path:\", file_path_train)\n",
    "print(\"Testing Data Path:\", file_path_test)\n",
    "\n",
    "df_train = pd.read_csv(file_path_train)\n",
    "df_test = pd.read_csv(file_path_test)"
   ]
  },
  {
   "cell_type": "markdown",
   "metadata": {},
   "source": [
    "### Data manipulation\n",
    "Here we manipulate only two columns:\n",
    "- gross_income\n",
    "- deceased_index \n",
    "\n",
    "Due to a meteor strike, the 2 variables that change the most will be the gross_income which can vary quite a bit due to some pay cuts or loss of jobs due to the shut down of different production channels\n",
    "\n",
    "For the deceased_index, it increases slightly as some died due to the disease"
   ]
  },
  {
   "cell_type": "markdown",
   "metadata": {},
   "source": [
    "Setting seed"
   ]
  },
  {
   "cell_type": "code",
   "execution_count": null,
   "metadata": {},
   "outputs": [],
   "source": [
    "np.random.seed(1000)"
   ]
  },
  {
   "cell_type": "markdown",
   "metadata": {},
   "source": [
    "Part 1: Manipulate gross income of customers"
   ]
  },
  {
   "cell_type": "code",
   "execution_count": null,
   "metadata": {},
   "outputs": [],
   "source": [
    "def manipulate_gross_income(df,percentage):\n",
    "    lambda_inv = mean(df['gross_income'])*(percentage/100)\n",
    "\n",
    "    gross_income_dec = np.random.exponential(scale=lambda_inv, size = len(df))\n",
    "    final_income = []\n",
    "    for i in range(0,len(df)):\n",
    "        inc = df['gross_income'].iloc[i]-gross_income_dec[i]\n",
    "        if inc<0:\n",
    "            final_income.append(0)\n",
    "        else:\n",
    "            final_income.append(inc)\n",
    "    return final_income"
   ]
  },
  {
   "cell_type": "code",
   "execution_count": null,
   "metadata": {},
   "outputs": [],
   "source": [
    "Part 2: Manipulate deceased_index of customers"
   ]
  },
  {
   "cell_type": "code",
   "execution_count": null,
   "metadata": {},
   "outputs": [],
   "source": [
    "def manipulate_deceased_index(df,percentage):\n",
    "    new_deceased = []\n",
    "    for i in range(0,len(df_train)):\n",
    "        if df_train['deceased_index_S'].iloc[i] == 0:\n",
    "            if(np.random.rand()<(percentage/100)):\n",
    "                new_deceased.append(1)\n",
    "            else:\n",
    "                new_deceased.append(0)\n",
    "        else:\n",
    "           new_deceased.append(0)\n",
    "    return new_deceased\n",
    "    \n",
    "    "
   ]
  },
  {
   "cell_type": "code",
   "execution_count": null,
   "metadata": {},
   "outputs": [],
   "source": [
    "# data transformation train Meteor\n",
    "#input_file = \"clean_train_reco.csv\" # input CSV file\n",
    "output_file = \"clean_train_reco_covid.csv\" # output CSV file"
   ]
  },
  {
   "cell_type": "code",
   "execution_count": null,
   "metadata": {},
   "outputs": [],
   "source": [
    "#df_train = pd.read_csv(input_file)"
   ]
  },
  {
   "cell_type": "code",
   "execution_count": null,
   "metadata": {},
   "outputs": [],
   "source": [
    "Train dataset before transformations"
   ]
  },
  {
   "cell_type": "code",
   "execution_count": null,
   "metadata": {},
   "outputs": [],
   "source": [
    "pd.set_option('display.max_columns', None)  # Show all columns\n",
    "pd.set_option('display.width', None)  # Prevent wrapping of columns\n",
    "df_train.columns.to_list()\n",
    "df_train.head()"
   ]
  },
  {
   "cell_type": "markdown",
   "metadata": {},
   "source": [
    "Distribution of gross income for train data"
   ]
  },
  {
   "cell_type": "code",
   "execution_count": null,
   "metadata": {},
   "outputs": [],
   "source": [
    "#portion where we manipulate columns for different events\n",
    "\n",
    "#Covid overall decrease of 10% of economy over assumed 2 years, 10/24 % per month on average\n",
    "\n",
    "#histogram of gross income\n",
    "plt.hist(df_train['gross_income'],bins = 50, density=True)\n",
    "plt.xlabel('Values')\n",
    "plt.ylabel('Density')\n",
    "plt.title('Histogram of gross income density')\n",
    "plt.show() \n",
    "#results is an exponential"
   ]
  },
  {
   "cell_type": "markdown",
   "metadata": {},
   "source": [
    "## Decrease of 10/24 % of overall income for train"
   ]
  },
  {
   "cell_type": "code",
   "execution_count": null,
   "metadata": {},
   "outputs": [],
   "source": [
    "new_income = manipulate_gross_income(df_train,10/24)\n",
    "df_train['gross_income'] = new_income"
   ]
  },
  {
   "cell_type": "markdown",
   "metadata": {},
   "source": [
    "## overall 0.15% died over assumed 2 years, average 0.15/24 % for train"
   ]
  },
  {
   "cell_type": "code",
   "execution_count": null,
   "metadata": {},
   "outputs": [],
   "source": [
    "new_deceased_index = manipulate_deceased_index(df_train,0.15/24)\n",
    "df_train['deceased_index_S'] = new_deceased_index"
   ]
  },
  {
   "cell_type": "markdown",
   "metadata": {},
   "source": [
    "Train dataset after transformations "
   ]
  },
  {
   "cell_type": "code",
   "execution_count": null,
   "metadata": {},
   "outputs": [],
   "source": [
    "pd.set_option('display.max_columns', None)  # Show all columns\n",
    "pd.set_option('display.width', None)  # Prevent wrapping of columns\n",
    "df_train.columns.to_list()\n",
    "df_train.head()"
   ]
  },
  {
   "cell_type": "code",
   "execution_count": 32,
   "metadata": {},
   "outputs": [],
   "source": [
    "df_train.to_csv(output_file, index=False)"
   ]
  },
  {
   "cell_type": "code",
   "execution_count": 33,
   "metadata": {},
   "outputs": [],
   "source": [
    "# data transformation test Covid\n",
    "#input_file = \"clean_test_reco.csv\" # input CSV file\n",
    "output_file = \"clean_test_reco_meteor.csv\" # output CSV file"
   ]
  },
  {
   "cell_type": "code",
   "execution_count": 34,
   "metadata": {},
   "outputs": [],
   "source": [
    "#df_test = pd.read_csv(input_file)"
   ]
  },
  {
   "cell_type": "code",
   "execution_count": null,
   "metadata": {},
   "outputs": [],
   "source": [
    "Test dataset before transformations "
   ]
  },
  {
   "cell_type": "code",
   "execution_count": null,
   "metadata": {},
   "outputs": [],
   "source": [
    "pd.set_option('display.max_columns', None)  # Show all columns\n",
    "pd.set_option('display.width', None)  # Prevent wrapping of columns\n",
    "df_test.columns.to_list()\n",
    "df_test.head()"
   ]
  },
  {
   "cell_type": "markdown",
   "metadata": {},
   "source": [
    "Distribution of gross income for test data"
   ]
  },
  {
   "cell_type": "code",
   "execution_count": 35,
   "metadata": {},
   "outputs": [
    {
     "data": {
      "image/png": "[encoded data removed]",
      "text/plain": [
       "<Figure size 640x480 with 1 Axes>"
      ]
     },
     "metadata": {},
     "output_type": "display_data"
    }
   ],
   "source": [
    "#portion where we manipulate columns for different events\n",
    "\n",
    "#Covid overall decrease of 10% of economy over assumed 2 years, 10/24 %\n",
    "\n",
    "#histogram of gross income\n",
    "plt.hist(df_test['gross_income'],bins = 50, density=True)\n",
    "plt.xlabel('Values')\n",
    "plt.ylabel('Density')\n",
    "plt.title('Histogram of gross income density')\n",
    "plt.show() \n",
    "#results is an exponential"
   ]
  },
  {
   "cell_type": "markdown",
   "metadata": {},
   "source": [
    "## Decrease of 10/24 % of overall income for test"
   ]
  },
  {
   "cell_type": "code",
   "execution_count": null,
   "metadata": {},
   "outputs": [],
   "source": [
    "new_income = manipulate_gross_income(df_train,10/24)\n",
    "df_train['gross_income'] = new_income"
   ]
  },
  {
   "cell_type": "markdown",
   "metadata": {},
   "source": [
    "## overall 0.15% died over assumed 2 years, average 0.15/24 % for test"
   ]
  },
  {
   "cell_type": "code",
   "execution_count": null,
   "metadata": {},
   "outputs": [],
   "source": [
    "new_deceased_index = manipulate_deceased_index(df_train,0.15/24)\n",
    "df_train['deceased_index_S'] = new_deceased_index"
   ]
  },
  {
   "cell_type": "markdown",
   "metadata": {},
   "source": [
    "Test dataset after transformations "
   ]
  },
  {
   "cell_type": "code",
   "execution_count": null,
   "metadata": {},
   "outputs": [],
   "source": [
    "pd.set_option('display.max_columns', None)  # Show all columns\n",
    "pd.set_option('display.width', None)  # Prevent wrapping of columns\n",
    "df_test.columns.to_list()\n",
    "df_test.head()"
   ]
  },
  {
   "cell_type": "code",
   "execution_count": 37,
   "metadata": {},
   "outputs": [],
   "source": [
    "df_test.to_csv(output_file, index=False)"
   ]
  }
 ],
 "metadata": {
  "kernelspec": {
   "display_name": "Python 3 (ipykernel)",
   "language": "python",
   "name": "python3"
  },
  "language_info": {
   "codemirror_mode": {
    "name": "ipython",
    "version": 3
   },
   "file_extension": ".py",
   "mimetype": "text/x-python",
   "name": "python",
   "nbconvert_exporter": "python",
   "pygments_lexer": "ipython3",
   "version": "3.11.7"
  }
 },
 "nbformat": 4,
 "nbformat_minor": 4
}
