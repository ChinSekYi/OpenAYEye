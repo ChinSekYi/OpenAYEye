{
 "cells": [
  {
   "cell_type": "code",
   "execution_count": 1,
   "metadata": {},
   "outputs": [
    {
     "data": {
      "text/plain": [
       "9999"
      ]
     },
     "execution_count": 1,
     "metadata": {},
     "output_type": "execute_result"
    }
   ],
   "source": [
    "# Airbnb Data Preparation and Cleaning Workshop\n",
    "import pandas as pd\n",
    "import numpy as np\n",
    "import matplotlib.pyplot as plt\n",
    "import seaborn as sns\n",
    "from sklearn.tree import DecisionTreeClassifier\n",
    "import math\n",
    "from statistics import median\n",
    "from statistics import mean\n",
    "\n",
    "df = pd.read_csv(\"original_renamed_reco_train.csv\")\n",
    "df.head(10)\n",
    "len(df)"
   ]
  },
  {
   "cell_type": "code",
   "execution_count": 2,
   "metadata": {},
   "outputs": [
    {
     "name": "stdout",
     "output_type": "stream",
     "text": [
      "9999\n"
     ]
    }
   ],
   "source": [
    "#remove report date as they are all the same\n",
    "df['report_date'].unique()\n",
    "df = df.drop('report_date', axis='columns')\n",
    "\n",
    "# remove customer index remove\n",
    "df = df.drop(\"customer_id\", axis='columns')\n",
    "\n",
    "#impute na gross income with median\n",
    "count = df['gross_income'].isna().sum()\n",
    "df['gross_income'] = df['gross_income'].fillna(df['gross_income'].median())\n",
    "df.head(10)\n",
    "\n",
    "#\n",
    "age_new = df.iloc[:,3]\n",
    "print(len(age_new))\n",
    "\n",
    "age_new[1020:1040]\n",
    "new = []\n",
    "for i in age_new:\n",
    "    if i != ' NA':\n",
    "        new.append(int(i))\n"
   ]
  },
  {
   "cell_type": "code",
   "execution_count": 3,
   "metadata": {},
   "outputs": [
    {
     "data": {
      "text/plain": [
       "array(['H', 'V'], dtype=object)"
      ]
     },
     "execution_count": 3,
     "metadata": {},
     "output_type": "execute_result"
    }
   ],
   "source": [
    "med = median(new)\n",
    "med\n",
    "age = []\n",
    "\n",
    "for i in age_new:\n",
    "    if i !=' NA':\n",
    "        age.append(int(i))\n",
    "    else:\n",
    "        age.append(med)\n",
    "age[1020:1040]\n",
    "df['age'] = age\n",
    "\n",
    "df['country_residence'].unique()\n",
    "#has NA and many countries one hot encode\n",
    "count = df['country_residence'].isna().sum()\n",
    "#dropping row if column country_residenceis NA\n",
    "\n",
    "df = df.dropna(subset=[\"country_residence\"])\n",
    "len(df)\n",
    "df['gender'].unique()  "
   ]
  },
  {
   "cell_type": "code",
   "execution_count": 4,
   "metadata": {},
   "outputs": [],
   "source": [
    "# binary one hot encode\n",
    "df['contract_start_date'].unique() \n",
    "#one hot encoding for many variables\n",
    "df['new_customer_index'].unique() \n",
    "# binary one hot encode\n",
    "df['seniority_months'].unique() \n",
    "#conversion from string to int\n",
    "new = []\n",
    "for i in df['seniority_months']:\n",
    "    new.append(int(i))\n",
    "df['seniority_months'] = new\n",
    "\n",
    "df['customer_relation_type'].unique()\n",
    "# binary one hot encode\n",
    "df['residence_index'].unique()\n",
    "# binary one hot encode\n",
    "df['foreigner_index'].unique()\n",
    "# binary one hot encode\n",
    "df['join_channel'].unique()\n",
    "#one hot encoding for many variables\n",
    "df['deceased_index'].unique()\n",
    "# binary one hot encode\n",
    "df['province_name'].unique()\n",
    "df = df.dropna(subset=[\"province_name\"])\n",
    "len(df)\n",
    "#one hot encoding for many variables\n",
    "df['customer_segment'].unique()\n",
    "#one hot encoding for many variables\n",
    "df['employee_index'].unique()\n",
    "df = df.drop('employee_index', axis='columns')"
   ]
  },
  {
   "cell_type": "markdown",
   "metadata": {},
   "source": [
    "\"\"\"\n",
    "#10\n",
    "(Considered central region)\n",
    "'CIUDAD REAL'(central)\n",
    "'SALAMANCA'(central)\n",
    "'TOLEDO'(central)\n",
    "'SEGOVIA'(central)\n",
    "'MADRID'(centre)\n",
    "'GUADALAJARA'(central)\n",
    "'ALBACETE'(Central)\n",
    "'SORIA'(north/centra/l)\n",
    "'CUENCA'(east central)\n",
    "'AVILA'(central/west)\n",
    "\n",
    "\n",
    "#12\n",
    "(Considered Northern region)\n",
    "'ALAVA'(north)\n",
    "'GIPUZKOA'(north)\n",
    "'PALENCIA'(North)\n",
    "'BURGOS'(north)\n",
    "'NAVARRA'(north)\n",
    "'CANTABRIA'(north)\n",
    "'BIZKAIA'(north)\n",
    "'RIOJA, LA'(North)\n",
    "'ZARAGOZA'(north/east)\n",
    "'TARRAGONA'(north east)\n",
    "'LERIDA'(North/east)\n",
    "'HUESCA'(north/east)\n",
    "\n",
    "#11\n",
    "(Considered Western region)\n",
    "'ZAMORA'(West)\n",
    "'CACERES'(west)\n",
    "'HUELVA'(south west)\n",
    "'BADAJOZ'(south/west)\n",
    "'ASTURIAS'(north west)\n",
    "'LEON'(north/west)\n",
    "'LUGO'(North/west)\n",
    "'CORUÑA, A'(north/ west)\n",
    "'OURENSE'(north/ west)\n",
    "'VALLADOLID'(North/West)\n",
    "'PONTEVEDRA'(North West)\n",
    "\n",
    "#9\n",
    "(Considered Eastern region)\n",
    "'VALENCIA'(east)\n",
    "'TERUEL'(east)\n",
    "'BALEARS, ILLES'(east)\n",
    "'CASTELLON'(east)\n",
    "'ALICANTE'(south/east)\n",
    "'MURCIA'(south/east)\n",
    "'ALMERIA'(south/ east)\n",
    "'BARCELONA'(North east)\n",
    "'GIRONA'(North east)\n",
    "\n",
    "#10\n",
    "(Considered Southern region)\n",
    "'CADIZ'(south)\n",
    "'JAEN'(south)\n",
    "'SEVILLA'(south)\n",
    "'PALMAS, LAS'(South)\n",
    "'CORDOBA'(south)\n",
    "'GRANADA'(south)\n",
    "'SANTA CRUZ DE TENERIFE'(south)\n",
    "'MELILLA'(south)\n",
    "'CEUTA'(south)\n",
    "'MALAGA'(south)\n",
    "\"\"\""
   ]
  },
  {
   "cell_type": "code",
   "execution_count": 5,
   "metadata": {},
   "outputs": [
    {
     "name": "stdout",
     "output_type": "stream",
     "text": [
      "0         SOUTH\n",
      "1       CENTRAL\n",
      "2       CENTRAL\n",
      "3         NORTH\n",
      "4         NORTH\n",
      "         ...   \n",
      "9994      SOUTH\n",
      "9995    CENTRAL\n",
      "9996      SOUTH\n",
      "9997       WEST\n",
      "9998       EAST\n",
      "Name: province_name, Length: 9945, dtype: object\n"
     ]
    }
   ],
   "source": [
    "province = df['province_name']\n",
    "region = []\n",
    "for i in province:\n",
    "    if i in ['CIUDAD REAL', 'SALAMANCA','TOLEDO', 'SEGOVIA', 'MADRID', 'GUADALAJARA', 'ALBACETE', 'SORIA', 'CUENCA', 'AVILA']:\n",
    "        region.append(\"CENTRAL\")\n",
    "        \n",
    "    elif i in ['ALAVA', 'GIPUZKOA', 'PALENCIA', 'BURGOS', 'NAVARRA', 'CANTABRIA', 'BIZKAIA', 'RIOJA, LA', 'ZARAGOZA', 'TARRAGONA', 'LERIDA', 'HUESCA']:\n",
    "        region.append(\"NORTH\")\n",
    "\n",
    "    elif i in ['CADIZ','JAEN', 'SEVILLA', 'PALMAS, LAS', 'CORDOBA', 'GRANADA', 'SANTA CRUZ DE TENERIFE', 'MELILLA', 'CEUTA', 'MALAGA']:          \n",
    "        region.append(\"SOUTH\")\n",
    "    \n",
    "    elif i in ['VALENCIA', 'TERUEL', 'BALEARS, ILLES', 'CASTELLON', 'ALICANTE', 'MURCIA', 'ALMERIA', 'BARCELONA', 'GIRONA']:\n",
    "        region.append(\"EAST\")\n",
    "        \n",
    "    elif i in ['ZAMORA', 'CACERES', 'HUELVA', 'BADAJOZ', 'ASTURIAS', 'LEON', 'LUGO', 'CORUÑA, A', 'OURENSE', 'VALLADOLID', 'PONTEVEDRA']:\n",
    "        region.append(\"WEST\")\n",
    "    else:\n",
    "        print(i)\n",
    "df['province_name'] = region\n",
    "\n",
    "print(df['province_name'])\n",
    "\n",
    "df = df.rename(columns={'province_name': 'region'})"
   ]
  },
  {
   "cell_type": "code",
   "execution_count": 6,
   "metadata": {},
   "outputs": [
    {
     "data": {
      "image/png": "[encoded data removed]",
      "text/plain": [
       "<Figure size 640x480 with 1 Axes>"
      ]
     },
     "metadata": {},
     "output_type": "display_data"
    },
    {
     "name": "stdout",
     "output_type": "stream",
     "text": [
      "440.6276996543489\n",
      "35548.74\n",
      "lol\n",
      "716\n",
      "lol\n",
      "2561\n",
      "0       N\n",
      "1       N\n",
      "2       N\n",
      "3       N\n",
      "4       N\n",
      "       ..\n",
      "9994    N\n",
      "9995    N\n",
      "9996    N\n",
      "9997    N\n",
      "9998    N\n",
      "Name: deceased_index, Length: 9945, dtype: object\n"
     ]
    }
   ],
   "source": [
    "#portion where we manipulate columns for different events\n",
    "\n",
    "#Covid overall decrease of 10% of economy over assumed 2 years, 10/24 %\n",
    "\n",
    "#histogram of gross income\n",
    "plt.hist(df['gross_income'],bins = 50, density=True)\n",
    "plt.xlabel('Values')\n",
    "plt.ylabel('Density')\n",
    "plt.title('Customized Histogram with Density Plot')\n",
    "plt.show() \n",
    "#results is an exponential\n",
    "np.random.seed(1000)\n",
    "# decrease of 10% of overall income\n",
    "lambda_inv = mean(df['gross_income'])*(10/2400)\n",
    "\n",
    "print(lambda_inv)\n",
    "gross_income_dec = np.random.exponential(scale=lambda_inv, size = len(df))\n",
    "gross_income_dec\n",
    "final_income = []\n",
    "print(df['gross_income'].loc[1])\n",
    "for i in range(0,len(df)):\n",
    "    inc = df['gross_income'].iloc[i]-gross_income_dec[i]\n",
    "    if inc<0:\n",
    "        final_income.append(0)\n",
    "    else:\n",
    "        final_income.append(inc)\n",
    "df['gross_income'] = final_income\n",
    "\n",
    "#overall 0.15% died over assumed 2 years, average 0.15/2400\n",
    "new_deceased = []\n",
    "for i in range(0,len(df)):\n",
    "    if df['deceased_index'].iloc[i] == \"N\":\n",
    "        if(np.random.rand()<(0.15/2400)):\n",
    "            new_deceased = \"S\"\n",
    "            print(\"lol\")\n",
    "            print(i)\n",
    "        else:\n",
    "            new_deceased = \"N\"\n",
    "    else:\n",
    "       new_deceased = \"N\"\n",
    "print(df['deceased_index'])\n",
    "df['deceased_index'] = new_deceased\n"
   ]
  },
  {
   "cell_type": "raw",
   "metadata": {},
   "source": [
    "\n",
    "df = pd.get_dummies(df, columns=['customer_segment','region','join_channel','country_residence', 'contract_start_date'], dtype = int)\n",
    "#one hot encoding for many variables\n",
    "df = pd.get_dummies(df, columns=['deceased_index','foreigner_index','residence_index','customer_relation_type','gender','new_customer_index' ], drop_first=True, dtype = int)\n",
    "# binary one hot encode\n",
    "df\n",
    "cols = df.columns.tolist()\n",
    "cols\n",
    "cols = cols[:5]+cols[9:] + cols[5:9]\n",
    "df = df[cols]\n",
    "df"
   ]
  },
  {
   "cell_type": "code",
   "execution_count": null,
   "metadata": {},
   "outputs": [],
   "source": []
  },
  {
   "cell_type": "code",
   "execution_count": null,
   "metadata": {},
   "outputs": [],
   "source": []
  },
  {
   "cell_type": "code",
   "execution_count": null,
   "metadata": {},
   "outputs": [],
   "source": []
  }
 ],
 "metadata": {
  "kernelspec": {
   "display_name": "dev",
   "language": "python",
   "name": "python3"
  },
  "language_info": {
   "codemirror_mode": {
    "name": "ipython",
    "version": 3
   },
   "file_extension": ".py",
   "mimetype": "text/x-python",
   "name": "python",
   "nbconvert_exporter": "python",
   "pygments_lexer": "ipython3",
   "version": "3.10.14"
  }
 },
 "nbformat": 4,
 "nbformat_minor": 4
}
