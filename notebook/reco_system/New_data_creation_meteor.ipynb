{
 "cells": [
  {
   "cell_type": "code",
   "execution_count": null,
   "metadata": {},
   "outputs": [
    {
     "data": {
      "text/plain": [
       "9999"
      ]
     },
     "execution_count": 9,
     "metadata": {},
     "output_type": "execute_result"
    }
   ],
   "source": [
    "import pandas as pd\n",
    "import numpy as np\n",
    "import matplotlib.pyplot as plt\n",
    "import seaborn as sns"
   ]
  },
  {
   "cell_type": "code",
   "execution_count": null,
   "metadata": {},
   "outputs": [
    {
     "name": "stdout",
     "output_type": "stream",
     "text": [
      "9999\n"
     ]
    }
   ],
   "source": [
    "# data file to be confirmed\n",
    "\n",
    "df = pd.read_csv(\"..............\")\n"
   ]
  },
  {
   "cell_type": "code",
   "execution_count": null,
   "metadata": {},
   "outputs": [
    {
     "data": {
      "text/plain": [
       "array(['H', 'V'], dtype=object)"
      ]
     },
     "execution_count": 12,
     "metadata": {},
     "output_type": "execute_result"
    }
   ],
   "source": [
    "#meteor dropped on north region of spain \n",
    "\n",
    "#overall decreaseof 20% of economy immediately\n",
    "\n",
    "#histogram of gross income\n",
    "plt.hist(df['gross_income'],bins = 50, density=True)\n",
    "plt.xlabel('Values')\n",
    "plt.ylabel('Density')\n",
    "plt.title('Histogram of gross income density')\n",
    "plt.show() \n",
    "#results is an exponential\n",
    "np.random.seed(1000)"
   ]
  },
  {
   "cell_type": "code",
   "execution_count": null,
   "metadata": {},
   "outputs": [],
   "source": [
    "# decrease of 10% of overall income\n",
    "lambda_inv = mean(df['gross_income'])*(2/10)\n",
    "\n",
    "gross_income_dec = np.random.exponential(scale=lambda_inv, size = len(df))\n",
    "final_income = []\n",
    "for i in range(0,len(df)):\n",
    "    inc = df['gross_income'].iloc[i]-gross_income_dec[i]\n",
    "    if inc<0:\n",
    "        final_income.append(0)\n",
    "    else:\n",
    "        final_income.append(inc)\n",
    "df['gross_income'] = final_income"
   ]
  },
  {
   "cell_type": "code",
   "execution_count": null,
   "metadata": {},
   "outputs": [
    {
     "name": "stdout",
     "output_type": "stream",
     "text": [
      "0         SOUTH\n",
      "1       CENTRAL\n",
      "2       CENTRAL\n",
      "3         NORTH\n",
      "4         NORTH\n",
      "         ...   \n",
      "9994      SOUTH\n",
      "9995    CENTRAL\n",
      "9996      SOUTH\n",
      "9997       WEST\n",
      "9998       EAST\n",
      "Name: province_name, Length: 9945, dtype: object\n"
     ]
    }
   ],
   "source": [
    "#overall 90% died for those who lived in the north. the 10% are those who were not in the region when the meteor struck\n",
    "new_deceased = []\n",
    "for i in range(0,len(df)):\n",
    "    if df['deceased_index_S'].iloc[i] == 0 and df['region_NORTH'].iloc[i] == 1:\n",
    "        if(np.random.rand()<(0.9)):\n",
    "            new_deceased.append(1)\n",
    "        else:\n",
    "            new_deceased.append(0)\n",
    "    else:\n",
    "       new_deceased.append(0)\n",
    "\n",
    "df['deceased_index_s'] = new_deceased"
   ]
  }
 ],
 "metadata": {
  "kernelspec": {
   "display_name": "Python 3 (ipykernel)",
   "language": "python",
   "name": "python3"
  },
  "language_info": {
   "codemirror_mode": {
    "name": "ipython",
    "version": 3
   },
   "file_extension": ".py",
   "mimetype": "text/x-python",
   "name": "python",
   "nbconvert_exporter": "python",
   "pygments_lexer": "ipython3",
   "version": "3.11.7"
  }
 },
 "nbformat": 4,
 "nbformat_minor": 4
}
