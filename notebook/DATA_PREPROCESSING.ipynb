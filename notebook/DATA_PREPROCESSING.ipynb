{
 "cells": [
  {
   "cell_type": "markdown",
   "metadata": {},
   "source": [
    "# Clean Data"
   ]
  },
  {
   "cell_type": "code",
   "execution_count": null,
   "metadata": {},
   "outputs": [],
   "source": [
    "import pandas as pd\n",
    "import numpy as np\n",
    "import warnings\n",
    "\n",
    "warnings.filterwarnings(\"ignore\")\n",
    "\n",
    "def preprocess_data():\n",
    "\t'''\n",
    "\t- Remove Duplicates\n",
    "\t- Remove Missing\n",
    "\t- Verify Integrity/Constraints\n",
    "\t\t- e.g. \n",
    "\t'''\n",
    "\tpass\n"
   ]
  }
 ],
 "metadata": {
  "kernelspec": {
   "display_name": "torchdev",
   "language": "python",
   "name": "python3"
  },
  "language_info": {
   "codemirror_mode": {
    "name": "ipython",
    "version": 3
   },
   "file_extension": ".py",
   "mimetype": "text/x-python",
   "name": "python",
   "nbconvert_exporter": "python",
   "pygments_lexer": "ipython3",
   "version": "3.10.15"
  }
 },
 "nbformat": 4,
 "nbformat_minor": 2
}
