{
 "cells": [
  {
   "cell_type": "markdown",
   "metadata": {},
   "source": [
    "# Predicting ROI of Personalised Marketing Efforts"
   ]
  },
  {
   "cell_type": "markdown",
   "metadata": {},
   "source": [
    "## Table of Contents\n",
    "\n",
    "1. Problem Statement\n",
    "2. Data Source\n",
    "3. Data Preprocessing\n",
    "4. EDA\n",
    "5. Modelling\n",
    "6. Modelling with Improved Relational Data"
   ]
  },
  {
   "cell_type": "markdown",
   "metadata": {},
   "source": [
    "## Import Datasets\n",
    "Dataset 1: https://www.kaggle.com/datasets/sinderpreet/analyze-the-marketing-spending\n",
    "<br>Dataset 2: https://www.kaggle.com/datasets/naniruddhan/online-advertising-digital-marketing-data"
   ]
  },
  {
   "cell_type": "code",
   "execution_count": null,
   "metadata": {},
   "outputs": [],
   "source": [
    "import pandas as pd\n",
    "import numpy as np\n",
    "df1 = pd.read_csv('Marketing.csv')\n",
    "df2 = pd.read_csv('archive/online_advertising_performance_data.csv')"
   ]
  },
  {
   "cell_type": "markdown",
   "metadata": {},
   "source": [
    "### Data Cleaning for Dataset 1"
   ]
  },
  {
   "cell_type": "code",
   "execution_count": null,
   "metadata": {},
   "outputs": [],
   "source": [
    "# Check for missing values and data types\n",
    "print(df1.info())\n",
    "\n",
    "# Drop duplicates\n",
    "df1.drop_duplicates(inplace=True)\n",
    "\n",
    "# Check for missing values\n",
    "print(df1.isnull().sum())\n",
    "\n",
    "# Drop missing values (if any)\n",
    "df1 = df1.dropna()\n",
    "\n",
    "# Calculate Click to Revenue Conversion Rate\n",
    "df1['click_to_revenue_ratio'] = df1['revenue'] / df1['clicks']\n",
    "\n",
    "df1_cleaned = df1.drop(columns=[\"id\", \"c_date\", \"campaign_name\", \"campaign_id\"])\n",
    "df1_cleaned = df1_cleaned.rename(columns={\"mark_spent\": \"cost\"})\n",
    "\n",
    "# Verify cleaned data\n",
    "print(df1_cleaned.head())"
   ]
  },
  {
   "cell_type": "markdown",
   "metadata": {},
   "source": [
    "## Data Cleaning for Dataset 2"
   ]
  },
  {
   "cell_type": "code",
   "execution_count": null,
   "metadata": {},
   "outputs": [],
   "source": [
    "# Check for missing values\n",
    "print(df2.isnull().sum())\n",
    "\n",
    "# Drop columns where all values are NaN\n",
    "df2_cleaned = df2.dropna(axis=1, how='all')\n",
    "\n",
    "# Verify the updated dataframe\n",
    "print(df2_cleaned.columns)\n",
    "\n",
    "# Define a base conversion rate (you can adjust this based on your understanding)\n",
    "base_conversion_rate = 0.025  # 2.5% of clicks turn into leads\n",
    "\n",
    "# Add random noise to simulate variance in campaign performance\n",
    "conversion_adjustment = np.random.uniform(0.9, 1.1, len(df2))  # Random adjustment between 90% to 110%\n",
    "\n",
    "# Create a synthetic 'leads' column based on clicks, budget, and random noise\n",
    "df2_cleaned['leads'] = (df2_cleaned['clicks'] * base_conversion_rate * conversion_adjustment).astype(int)\n",
    "\n",
    "# Remove the specified columns\n",
    "df2_cleaned = df2_cleaned.drop(columns=[\"month\", \"day\", \"campaign_number\", \"user_engagement\",\"banner\"])\n",
    "\n",
    "# Rename the 'placement' column to 'category'\n",
    "df2_cleaned = df2_cleaned.rename(columns={\"placement\": \"category\"})\n",
    "# Rename 'displays' to 'impressions'\n",
    "df2_cleaned = df2_cleaned.rename(columns={\"displays\": \"impressions\"})\n",
    "# Replace 'abc' with 'jkl' in the 'category' column\n",
    "df2_cleaned['category'] = df2_cleaned['category'].replace('abc', 'jkl')\n",
    "# Rename 'post_click_conversions' to 'orders'\n",
    "df2_cleaned = df2_cleaned.rename(columns={\"post_click_conversions\": \"orders\"})\n",
    "\n",
    "# Remove the 'revenue' column\n",
    "df2_cleaned = df2_cleaned.drop(columns=[\"revenue\"])\n",
    "\n",
    "# Rename 'post_click_sales_amount' to 'revenue'\n",
    "df2_cleaned = df2_cleaned.rename(columns={\"post_click_sales_amount\": \"revenue\"})\n",
    "# Add a 'click_to_revenue_ratio' column, handling division by zero\n",
    "df2_cleaned['click_to_revenue_ratio'] = df2_cleaned.apply(lambda row: row['revenue'] / row['clicks'] if row['clicks'] != 0 else 0, axis=1)\n",
    "\n",
    "# Verify the new column\n",
    "print(df2_cleaned[['revenue', 'clicks', 'click_to_revenue_ratio']].head())\n",
    "# Replace category elements with new values\n",
    "df2_cleaned['category'] = df2_cleaned['category'].replace({\n",
    "    'mno': 'social',\n",
    "    'def': 'search',\n",
    "    'ghi': 'influencer',\n",
    "    'jkl': 'media'\n",
    "})\n",
    "\n",
    "# Verify the changes\n",
    "print(df2_cleaned['category'].value_counts())\n",
    "print(df2_cleaned.head())"
   ]
  },
  {
   "cell_type": "markdown",
   "metadata": {},
   "source": [
    "## Join Dataset 1 & Dataset 2"
   ]
  },
  {
   "cell_type": "code",
   "execution_count": null,
   "metadata": {},
   "outputs": [],
   "source": [
    "common_columns = [\"category\", \"impressions\", \"cost\", \"clicks\", \"leads\", \"orders\", \"revenue\", \"click_to_revenue_ratio\"]\n",
    "\n",
    "# Concatenate the two dataframes based on these common columns\n",
    "df_combined = pd.concat([df1_cleaned[common_columns], df2_cleaned[common_columns]], axis=0, ignore_index=True)\n",
    "\n",
    "# Verify the combined dataframe\n",
    "print(df_combined.head())"
   ]
  },
  {
   "cell_type": "markdown",
   "metadata": {},
   "source": [
    "## EDA"
   ]
  },
  {
   "cell_type": "markdown",
   "metadata": {},
   "source": [
    "### Campaign Spending vs Revenue"
   ]
  },
  {
   "cell_type": "code",
   "execution_count": null,
   "metadata": {},
   "outputs": [],
   "source": [
    "import seaborn as sns\n",
    "import matplotlib.pyplot as plt\n",
    "\n",
    "# Plot Marketing Spend vs Revenue\n",
    "plt.figure(figsize=(10, 6))\n",
    "sns.scatterplot(x='cost', y='revenue', data=df_combined, hue='category', palette='coolwarm')\n",
    "plt.title('Marketing Spend vs Revenue by Campaign Category')\n",
    "plt.xlabel('Marketing Spend')\n",
    "plt.ylabel('Revenue')\n",
    "plt.show()"
   ]
  },
  {
   "cell_type": "markdown",
   "metadata": {},
   "source": [
    "### Campaign Performance: Clicks, Leads, Orders"
   ]
  },
  {
   "cell_type": "code",
   "execution_count": null,
   "metadata": {},
   "outputs": [],
   "source": [
    "metrics = ['clicks', 'leads', 'orders']\n",
    "\n",
    "plt.figure(figsize=(10, 6))\n",
    "sns.pairplot(df_combined[metrics])\n",
    "plt.title('Clicks, Leads, and Orders Relationship')\n",
    "plt.show()"
   ]
  },
  {
   "cell_type": "markdown",
   "metadata": {},
   "source": [
    "### Revenue by Category"
   ]
  },
  {
   "cell_type": "code",
   "execution_count": null,
   "metadata": {},
   "outputs": [],
   "source": [
    "plt.figure(figsize=(10, 6))\n",
    "sns.boxplot(data=df_combined, x='category', y='revenue', palette='Set3')\n",
    "plt.title('Revenue Distribution by Campaign Category')\n",
    "plt.xlabel('Campaign Category')\n",
    "plt.ylabel('Revenue')\n",
    "plt.xticks(rotation=45)\n",
    "plt.show()"
   ]
  },
  {
   "cell_type": "markdown",
   "metadata": {},
   "source": [
    "### Marketing Spend Distribution"
   ]
  },
  {
   "cell_type": "code",
   "execution_count": null,
   "metadata": {},
   "outputs": [],
   "source": [
    "plt.figure(figsize=(10, 6))\n",
    "sns.histplot(df_combined['cost'], bins=20, kde=True, color='green')\n",
    "plt.title('Distribution of Marketing Spend')\n",
    "plt.xlabel('Marketing Spend')\n",
    "plt.ylabel('Frequency')\n",
    "plt.show()"
   ]
  },
  {
   "cell_type": "markdown",
   "metadata": {},
   "source": [
    "### Click to Revenue Conversion Rate"
   ]
  },
  {
   "cell_type": "code",
   "execution_count": null,
   "metadata": {},
   "outputs": [],
   "source": [
    "# Plot Click to Revenue Ratio\n",
    "plt.figure(figsize=(10, 6))\n",
    "sns.histplot(df_combined['click_to_revenue_ratio'].dropna(), bins=20, kde=True, color='purple')\n",
    "plt.title('Click to Revenue Conversion Ratio')\n",
    "plt.xlabel('Click to Revenue Ratio')\n",
    "plt.ylabel('Frequency')\n",
    "plt.show()"
   ]
  },
  {
   "cell_type": "markdown",
   "metadata": {},
   "source": [
    "### Revenue vs Leads"
   ]
  },
  {
   "cell_type": "code",
   "execution_count": null,
   "metadata": {},
   "outputs": [],
   "source": [
    "plt.figure(figsize=(10, 6))\n",
    "sns.scatterplot(x='leads', y='revenue', data=df_combined, hue='category', palette='coolwarm')\n",
    "plt.title('Leads vs Revenue by Campaign Category')\n",
    "plt.xlabel('Leads')\n",
    "plt.ylabel('Revenue')\n",
    "plt.show()"
   ]
  },
  {
   "cell_type": "markdown",
   "metadata": {},
   "source": [
    "# Random Forest Regressor"
   ]
  },
  {
   "cell_type": "code",
   "execution_count": null,
   "metadata": {},
   "outputs": [],
   "source": [
    "import numpy as np\n",
    "import pandas as pd\n",
    "from sklearn.ensemble import RandomForestRegressor\n",
    "from sklearn.model_selection import train_test_split\n",
    "from sklearn.preprocessing import OneHotEncoder\n",
    "from sklearn.metrics import mean_squared_error, r2_score\n",
    "\n",
    "# Assume df is your already available dataset\n",
    "# Selecting features (category and cost) and targets (clicks, leads, orders)\n",
    "X = df_combined[['category', 'cost']]  # Input features: category (categorical) and cost (numerical)\n",
    "y = df_combined[['clicks', 'leads', 'orders']]  # Targets: clicks, leads, orders (all numerical)\n",
    "\n",
    "# One-hot encoding for 'category'\n",
    "encoder = OneHotEncoder(sparse_output=False)\n",
    "X_encoded = encoder.fit_transform(X[['category']])\n",
    "\n",
    "# Concatenate the encoded category with cost\n",
    "X_transformed = np.concatenate([X_encoded, X[['cost']].values], axis=1)\n",
    "\n",
    "# Split the data into train and test sets\n",
    "X_train, X_test, y_train, y_test = train_test_split(X_transformed, y, test_size=0.2, random_state=42)\n",
    "\n",
    "# Define and train the RandomForestRegressor\n",
    "model = RandomForestRegressor(n_estimators=100, random_state=42)\n",
    "model.fit(X_train, y_train)\n",
    "\n",
    "# Predict on the test set\n",
    "y_pred = model.predict(X_test)\n",
    "\n",
    "# Evaluate the model using Mean Squared Error and R^2 score for each target\n",
    "mse = mean_squared_error(y_test, y_pred, multioutput='raw_values')\n",
    "r2 = r2_score(y_test, y_pred, multioutput='raw_values')\n",
    "\n",
    "# Print the accuracy for each target variable\n",
    "target_names = ['clicks', 'leads', 'orders']\n",
    "for i, target in enumerate(target_names):\n",
    "    print(f\"{target} - MSE: {mse[i]}, R^2: {r2[i]}\")\n",
    "\n",
    "# ===========================\n",
    "# Generating a Synthetic Dataset for Testing\n",
    "# ===========================\n",
    "\n",
    "# Categories for the synthetic data\n",
    "categories = ['influencer', 'social', 'search', 'media']\n",
    "n_samples = 100  # Number of synthetic data points\n",
    "\n",
    "# Generating random synthetic data\n",
    "synthetic_data = pd.DataFrame({\n",
    "    'category': np.random.choice(categories, size=n_samples),\n",
    "    'cost': np.random.uniform(100, 5000, size=n_samples)  # Random cost values\n",
    "})\n",
    "\n",
    "# One-hot encode the synthetic categories\n",
    "synthetic_encoded = encoder.transform(synthetic_data[['category']])\n",
    "\n",
    "# Concatenate the encoded categories with synthetic cost\n",
    "X_synthetic = np.concatenate([synthetic_encoded, synthetic_data[['cost']].values], axis=1)\n",
    "\n",
    "# Predict the target variables on synthetic data\n",
    "y_synthetic_pred = model.predict(X_synthetic)\n",
    "\n",
    "# Display the synthetic data and corresponding predictions\n",
    "synthetic_data['clicks'] = y_synthetic_pred[:, 0]\n",
    "synthetic_data['leads'] = y_synthetic_pred[:, 1]\n",
    "synthetic_data['orders'] = y_synthetic_pred[:, 2]\n",
    "\n",
    "# Show synthetic dataset with predictions\n",
    "print(synthetic_data)"
   ]
  },
  {
   "cell_type": "markdown",
   "metadata": {},
   "source": [
    "## 6. Model with Improved Relational Data"
   ]
  },
  {
   "cell_type": "markdown",
   "metadata": {},
   "source": [
    "### 6.1 Introducing Regressor Chain\n",
    "\n",
    "To better capture the relationship between clicks, leads, and orders, we use a Regressor Chain. This method allows us to sequentially model the dependencies between these variables:\n",
    "\n",
    "Our method is to use the predicted clicks as an input to predict leads, and then use both clicks and leads to predict orders.\n",
    "\n",
    "### 6.2 Advantages of Using Regressor Chain\n",
    "\n",
    "1. Capturing Dependencies: Reflects the real-world dependency where clicks lead to leads, and leads can convert into orders.\n",
    "2. Enhanced Accuracy: By including earlier predictions as inputs, the model can better predict subsequent outcomes."
   ]
  },
  {
   "cell_type": "code",
   "execution_count": null,
   "metadata": {},
   "outputs": [],
   "source": [
    "import numpy as np\n",
    "import pandas as pd\n",
    "from sklearn.ensemble import RandomForestRegressor\n",
    "from sklearn.model_selection import train_test_split\n",
    "from sklearn.preprocessing import OneHotEncoder\n",
    "from sklearn.metrics import mean_squared_error, r2_score\n",
    "from sklearn.multioutput import RegressorChain\n",
    "\n",
    "# Assume df_combined is your dataset with features and targets already defined\n",
    "# Selecting features (category and cost) and targets (clicks, leads, orders)\n",
    "X = df_combined[['category', 'cost']]  # Input features\n",
    "y = df_combined[['clicks', 'leads', 'orders']]  # Targets\n",
    "\n",
    "# One-hot encoding for the 'category' column\n",
    "encoder = OneHotEncoder(sparse_output=False)\n",
    "X_encoded = encoder.fit_transform(X[['category']])\n",
    "\n",
    "# Concatenate the encoded category with the cost column\n",
    "X_transformed = np.concatenate([X_encoded, X[['cost']].values], axis=1)\n",
    "\n",
    "# Split the data into training and test sets\n",
    "X_train, X_test, y_train, y_test = train_test_split(X_transformed, y, test_size=0.2, random_state=42)\n",
    "\n",
    "# Define the base model and RegressorChain for chained multi-output regression\n",
    "base_model = RandomForestRegressor(n_estimators=100, random_state=42)\n",
    "model = RegressorChain(base_model, order=[0, 1, 2])  # Predict clicks, then leads, then orders\n",
    "\n",
    "# Train the model\n",
    "model.fit(X_train, y_train)\n",
    "\n",
    "# Predict on the test set\n",
    "y_pred = model.predict(X_test)\n",
    "\n",
    "# Evaluate the model using Mean Squared Error and R^2 score for each target\n",
    "mse = mean_squared_error(y_test, y_pred, multioutput='raw_values')\n",
    "r2 = r2_score(y_test, y_pred, multioutput='raw_values')\n",
    "\n",
    "# Print the accuracy for each target variable\n",
    "target_names = ['clicks', 'leads', 'orders']\n",
    "for i, target in enumerate(target_names):\n",
    "    print(f\"{target} - MSE: {mse[i]}, R^2: {r2[i]}\")\n"
   ]
  }
 ],
 "metadata": {
  "kernelspec": {
   "display_name": "dev",
   "language": "python",
   "name": "python3"
  },
  "language_info": {
   "codemirror_mode": {
    "name": "ipython",
    "version": 3
   },
   "file_extension": ".py",
   "mimetype": "text/x-python",
   "name": "python",
   "nbconvert_exporter": "python",
   "pygments_lexer": "ipython3",
   "version": "3.10.14"
  }
 },
 "nbformat": 4,
 "nbformat_minor": 2
}
