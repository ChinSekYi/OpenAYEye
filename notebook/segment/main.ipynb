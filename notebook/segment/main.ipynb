{
 "cells": [
  {
   "cell_type": "code",
   "execution_count": null,
   "metadata": {},
   "outputs": [],
   "source": [
    "import re\n",
    "import time\n",
    "import datetime\n",
    "\n",
    "import pandas as pd\n",
    "import numpy as np\n",
    "\n",
    "import os\n",
    "import sys\n",
    "import warnings\n",
    "warnings.filterwarnings(\"ignore\")\n",
    "if not sys.warnoptions:\n",
    "    warnings.simplefilter(\"ignore\")\n",
    "    os.environ[\"PYTHONWARNINGS\"] = \"ignore\" # Also affect subprocesse\n",
    "\n",
    "from dataset import engine, Churn, Engagement, RFM\n",
    "from configs import Config\n",
    "from sklearn.model_selection import GridSearchCV\n",
    "from models import pipeline, parameters"
   ]
  },
  {
   "cell_type": "code",
   "execution_count": null,
   "metadata": {},
   "outputs": [],
   "source": [
    "config = Config(\n",
    "\tTASK = 'classification',\n",
    "\tDATASET='engagement', \n",
    "\tX_COL = 'market',\n",
    "\tY_COL = 'conversion',\n",
    ")\n",
    "# X_train, X_test, y_train, y_test = Churn(engine, config.X_COL).get_dataset()\n",
    "X_train, X_test, y_train, y_test = Engagement(engine, config.TASK, config.X_COL, config.Y_COL).get_dataset()\n",
    "# X_train, X_test, y_train, y_test = RFM(engine, col_type='market', y_col='Cannot Lose').get_dataset()\n",
    "pd.concat([X_train, y_train], axis=1)"
   ]
  },
  {
   "cell_type": "code",
   "execution_count": null,
   "metadata": {},
   "outputs": [],
   "source": [
    "grid_search = GridSearchCV(pipeline, parameters, cv=10, n_jobs=12, return_train_score=True, verbose=0)\n",
    "grid_search.fit(X_train, y_train.values.ravel())\n",
    "grid_search"
   ]
  },
  {
   "cell_type": "code",
   "execution_count": null,
   "metadata": {},
   "outputs": [],
   "source": [
    "print(grid_search.best_score_)\n",
    "best_estimator = grid_search.best_estimator_[0]\n",
    "print(best_estimator.class_report(X_test, y_test))\n",
    "print(best_estimator.feature_importance())"
   ]
  }
 ],
 "metadata": {
  "kernelspec": {
   "display_name": "torchdev",
   "language": "python",
   "name": "python3"
  },
  "language_info": {
   "codemirror_mode": {
    "name": "ipython",
    "version": 3
   },
   "file_extension": ".py",
   "mimetype": "text/x-python",
   "name": "python",
   "nbconvert_exporter": "python",
   "pygments_lexer": "ipython3",
   "version": "3.10.15"
  }
 },
 "nbformat": 4,
 "nbformat_minor": 2
}
